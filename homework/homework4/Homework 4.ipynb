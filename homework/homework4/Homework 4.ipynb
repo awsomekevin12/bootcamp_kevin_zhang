{
 "cells": [
  {
   "cell_type": "markdown",
   "id": "b23538de",
   "metadata": {},
   "source": [
    "# Homework Starter — Stage 04: Data Acquisition and Ingestion\n",
    "Name: Kevin Zhang\n",
    "Date: 08/20/25\n",
    "\n",
    "## Objectives\n",
    "- API ingestion with secrets in `.env`\n",
    "- Scrape a permitted public table\n",
    "- Validate and save raw data to `data/raw/`"
   ]
  },
  {
   "cell_type": "code",
   "execution_count": 1,
   "id": "48666729",
   "metadata": {},
   "outputs": [
    {
     "name": "stdout",
     "output_type": "stream",
     "text": [
      "ALPHAVANTAGE_API_KEY loaded? False\n"
     ]
    }
   ],
   "source": [
    "import os, pathlib, datetime as dt\n",
    "import requests\n",
    "import pandas as pd\n",
    "from bs4 import BeautifulSoup\n",
    "from dotenv import load_dotenv\n",
    "\n",
    "RAW = pathlib.Path('data/raw'); RAW.mkdir(parents=True, exist_ok=True)\n",
    "load_dotenv(); print('ALPHAVANTAGE_API_KEY loaded?', bool(os.getenv('ALPHAVANTAGE_API_KEY')))"
   ]
  },
  {
   "cell_type": "markdown",
   "id": "5ee22bb3",
   "metadata": {},
   "source": [
    "## Helpers (use or modify)"
   ]
  },
  {
   "cell_type": "code",
   "execution_count": 3,
   "id": "e0957bfb",
   "metadata": {},
   "outputs": [],
   "source": [
    "def ts():\n",
    "    return dt.datetime.now().strftime('%Y%m%d-%H%M%S')\n",
    "\n",
    "def save_csv(df: pd.DataFrame, prefix: str, **meta):\n",
    "    mid = '_'.join([f\"{k}-{v}\" for k,v in meta.items()])\n",
    "    path = RAW / f\"{prefix}_{mid}_{ts()}.csv\"\n",
    "    df.to_csv(path, index=False)\n",
    "    print('Saved', path)\n",
    "    return path\n",
    "\n",
    "def validate(df: pd.DataFrame, required):\n",
    "    missing = [c for c in required if c not in df.columns]\n",
    "    return {'missing': missing, 'shape': df.shape, 'na_total': int(df.isna().sum().sum())}"
   ]
  },
  {
   "cell_type": "markdown",
   "id": "1966ecee",
   "metadata": {},
   "source": [
    "## Part 1 — API Pull (Required)\n",
    "Choose an endpoint (e.g., Alpha Vantage or use `yfinance` fallback)."
   ]
  },
  {
   "cell_type": "code",
   "execution_count": 7,
   "id": "56f651d6",
   "metadata": {},
   "outputs": [
    {
     "name": "stderr",
     "output_type": "stream",
     "text": [
      "C:\\Users\\kzhan\\AppData\\Local\\Temp\\ipykernel_18860\\819323109.py:39: FutureWarning: YF.download() has changed argument auto_adjust default to True\n",
      "  df_raw = yf.download(SYMBOL, period='3mo', interval='1d').reset_index()\n",
      "[*********************100%***********************]  1 of 1 completed"
     ]
    },
    {
     "name": "stdout",
     "output_type": "stream",
     "text": [
      "{'missing': [], 'shape': (63, 2), 'na_total': 0}\n"
     ]
    },
    {
     "name": "stderr",
     "output_type": "stream",
     "text": [
      "\n"
     ]
    }
   ],
   "source": [
    "SYMBOL = 'AAPL'\n",
    "USE_ALPHA = bool(os.getenv('ALPHAVANTAGE_API_KEY'))\n",
    "\n",
    "if USE_ALPHA:\n",
    "    url = 'https://www.alphavantage.co/query'\n",
    "    params = {\n",
    "        'function': 'TIME_SERIES_DAILY_ADJUSTED',\n",
    "        'symbol': SYMBOL,\n",
    "        'outputsize': 'compact',\n",
    "        'apikey': os.getenv('ALPHAVANTAGE_API_KEY')\n",
    "    }\n",
    "    r = requests.get(url, params=params, timeout=30)\n",
    "    r.raise_for_status()\n",
    "    js = r.json()\n",
    "\n",
    "    # --- Start of Improved Section ---\n",
    "    # First, check if the API returned an error message\n",
    "    if 'Error Message' in js or 'Information' in js:\n",
    "        print(\"API Error or Information received:\")\n",
    "        print(js)\n",
    "        # Create an empty DataFrame so the rest of the code doesn't crash\n",
    "        df_api = pd.DataFrame() \n",
    "    else:\n",
    "        # If no error, find the key and process the data as before\n",
    "        key = [k for k in js if 'Time Series' in k]\n",
    "        if not key:\n",
    "             print(\"Could not find the 'Time Series' key in the API response.\")\n",
    "             print(js)\n",
    "             df_api = pd.DataFrame()\n",
    "        else:\n",
    "             df_api = pd.DataFrame(js[key[0]]).T.reset_index().rename(columns={'index':'date','5. adjusted close':'adj_close'})[['date','adj_close']]\n",
    "             df_api['date'] = pd.to_datetime(df_api['date'])\n",
    "             df_api['adj_close'] = pd.to_numeric(df_api['adj_close'])\n",
    "    # --- End of Improved Section ---\n",
    "\n",
    "else:\n",
    "    import yfinance as yf\n",
    "    # Just download with the new default\n",
    "    df_raw = yf.download(SYMBOL, period='3mo', interval='1d').reset_index()\n",
    "    \n",
    "    # Select 'Date' and the now-adjusted 'Close' column\n",
    "    df_api = df_raw[['Date', 'Close']] # <-- CHANGE 'Adj Close' to 'Close'\n",
    "    \n",
    "    # Rename them to match the rest of the notebook's expectations\n",
    "    df_api.columns = ['date', 'adj_close']\n",
    "\n",
    "# Only run validation if the DataFrame is not empty\n",
    "if not df_api.empty:\n",
    "    v_api = validate(df_api, ['date','adj_close'])\n",
    "    print(v_api)\n",
    "else:\n",
    "    print(\"DataFrame is empty due to an API error. Skipping validation.\")"
   ]
  },
  {
   "cell_type": "code",
   "execution_count": 8,
   "id": "1903e9a9",
   "metadata": {},
   "outputs": [
    {
     "name": "stdout",
     "output_type": "stream",
     "text": [
      "Saved data\\raw\\api_source-yfinance_symbol-AAPL_20250820-171922.csv\n"
     ]
    }
   ],
   "source": [
    "_ = save_csv(df_api.sort_values('date'), prefix='api', source='alpha' if USE_ALPHA else 'yfinance', symbol=SYMBOL)"
   ]
  },
  {
   "cell_type": "markdown",
   "id": "80c49f1d",
   "metadata": {},
   "source": [
    "## Part 2 — Scrape a Public Table (Required)\n",
    "Replace `SCRAPE_URL` with a permitted page containing a simple table."
   ]
  },
  {
   "cell_type": "code",
   "execution_count": 9,
   "id": "92a9c833",
   "metadata": {},
   "outputs": [
    {
     "data": {
      "text/plain": [
       "{'missing': [], 'shape': (880, 8), 'na_total': 758}"
      ]
     },
     "execution_count": 9,
     "metadata": {},
     "output_type": "execute_result"
    }
   ],
   "source": [
    "SCRAPE_URL = 'https://en.wikipedia.org/wiki/List_of_S%26P_500_companies'  # TODO: replace with permitted page\n",
    "headers = {'User-Agent':'AFE-Homework/1.0'}\n",
    "try:\n",
    "    resp = requests.get(SCRAPE_URL, headers=headers, timeout=30); resp.raise_for_status()\n",
    "    soup = BeautifulSoup(resp.text, 'html.parser')\n",
    "    rows = [[c.get_text(strip=True) for c in tr.find_all(['th','td'])] for tr in soup.find_all('tr')]\n",
    "    header, *data = [r for r in rows if r]\n",
    "    df_scrape = pd.DataFrame(data, columns=header)\n",
    "except Exception as e:\n",
    "    print('Scrape failed, using inline demo table:', e)\n",
    "    html = '<table><tr><th>Ticker</th><th>Price</th></tr><tr><td>AAA</td><td>101.2</td></tr></table>'\n",
    "    soup = BeautifulSoup(html, 'html.parser')\n",
    "    rows = [[c.get_text(strip=True) for c in tr.find_all(['th','td'])] for tr in soup.find_all('tr')]\n",
    "    header, *data = [r for r in rows if r]\n",
    "    df_scrape = pd.DataFrame(data, columns=header)\n",
    "\n",
    "if 'Price' in df_scrape.columns:\n",
    "    df_scrape['Price'] = pd.to_numeric(df_scrape['Price'], errors='coerce')\n",
    "v_scrape = validate(df_scrape, list(df_scrape.columns)); v_scrape"
   ]
  },
  {
   "cell_type": "code",
   "execution_count": 11,
   "id": "ea88385e",
   "metadata": {},
   "outputs": [
    {
     "name": "stdout",
     "output_type": "stream",
     "text": [
      "Saved data\\raw\\scrape_site-wikipedia_table-sp500-list_20250820-172112.csv\n"
     ]
    }
   ],
   "source": [
    "_ = save_csv(df_scrape, prefix='scrape', site='wikipedia', table='sp500-list')"
   ]
  },
  {
   "cell_type": "markdown",
   "id": "ceedec56",
   "metadata": {},
   "source": [
    "## Documentation\n",
    "- API Source: (URL/endpoint/params)\n",
    "  I just used the yfinance fall back because alphavantage doesnt let me call the api unless I use a premium service. \n",
    "- Scrape Source: (URL/table description)\n",
    "  The scrap source is https://en.wikipedia.org/wiki/List_of_S%26P_500_companies. The s&p500 from wikipedia.\n",
    "- Assumptions & risks: (rate limits, selector fragility, schema changes)\n",
    "  I'm assuming the api json structure ('Time Series (Daily)') won't change. A risk is that it will be updated which will break the scraper, it also relies on the first row being a header.\n",
    "- Confirm `.env` is not committed.\n",
    "  Not commited, pushing a dummy .env.example"
   ]
  }
 ],
 "metadata": {
  "kernelspec": {
   "display_name": "Python 3 (ipykernel)",
   "language": "python",
   "name": "python3"
  },
  "language_info": {
   "codemirror_mode": {
    "name": "ipython",
    "version": 3
   },
   "file_extension": ".py",
   "mimetype": "text/x-python",
   "name": "python",
   "nbconvert_exporter": "python",
   "pygments_lexer": "ipython3",
   "version": "3.13.5"
  }
 },
 "nbformat": 4,
 "nbformat_minor": 5
}
