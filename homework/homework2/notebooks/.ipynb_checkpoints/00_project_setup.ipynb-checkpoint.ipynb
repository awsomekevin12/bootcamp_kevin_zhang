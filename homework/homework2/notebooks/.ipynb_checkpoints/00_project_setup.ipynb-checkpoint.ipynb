{
 "cells": [
  {
   "cell_type": "markdown",
   "id": "5a572cae-1c64-423e-9669-d2d68355d98d",
   "metadata": {},
   "source": [
    "# Environment & Config Check"
   ]
  },
  {
   "cell_type": "code",
   "execution_count": 1,
   "id": "8293b0b2-dc13-442f-908f-a2b301eb9af5",
   "metadata": {},
   "outputs": [
    {
     "name": "stdout",
     "output_type": "stream",
     "text": [
      ".env loaded (if present)\n",
      "API_KEY present: True\n",
      "Original Array: [10 20 30 40 50]\n",
      "Array Mean: 30.0\n"
     ]
    }
   ],
   "source": [
    "import os\n",
    "import numpy as np\n",
    "from dotenv import load_dotenv\n",
    "\n",
    "# Load environment variables from .env file\n",
    "load_dotenv()\n",
    "print(\".env loaded (if present)\")\n",
    "\n",
    "# 1. Check if the API_KEY is accessible\n",
    "api_key_present = os.getenv(\"API_KEY\") is not None\n",
    "print(f\"API_KEY present: {api_key_present}\")\n",
    "\n",
    "# 2. Run a small NumPy array operation\n",
    "arr = np.array([10, 20, 30, 40, 50])\n",
    "print(f\"Original Array: {arr}\")\n",
    "print(f\"Array Mean: {arr.mean()}\")"
   ]
  },
  {
   "cell_type": "markdown",
   "id": "3e6615ea-489b-491a-adff-b9d6f11a8f66",
   "metadata": {},
   "source": [
    "I creat .env in the terminal using echo. > .env to create an empty .env file, then notepad .env.example to open up a notepad editor where I write my dummy key. I copy from the notepad .env.example to .env using copy .env.example .env. Then I create a .ignore with env/ and .env as ignore files."
   ]
  }
 ],
 "metadata": {
  "kernelspec": {
   "display_name": "Python 3 (ipykernel)",
   "language": "python",
   "name": "python3"
  },
  "language_info": {
   "codemirror_mode": {
    "name": "ipython",
    "version": 3
   },
   "file_extension": ".py",
   "mimetype": "text/x-python",
   "name": "python",
   "nbconvert_exporter": "python",
   "pygments_lexer": "ipython3",
   "version": "3.13.5"
  }
 },
 "nbformat": 4,
 "nbformat_minor": 5
}
